{
 "cells": [
  {
   "cell_type": "markdown",
   "metadata": {},
   "source": [
    "# Python\n",
    "## Contexte\n",
    "Python n'est pas juste un langage d'enseignement. Il est très utilisé dans plusieurs domaines. Un exemple parmi d'autres, le groupe EDF recrute des mathématiciens pour construire divers algorithmes qui sont ensuite codés en Python car simple et rapide d'apprentissage.\n",
    "## Syntaxe\n",
    "En Python, c'est l'indentation qui délimite les blocs de code. Il est d'usage d'indenter par quatre espaces.\n",
    "#### Activité 1\n",
    "Exécuter les codes suivants et observer les différences d'exécution."
   ]
  },
  {
   "cell_type": "code",
   "execution_count": null,
   "metadata": {},
   "outputs": [],
   "source": [
    "temperature = 8\n",
    "if temperature < 5:\n",
    "    print(\"Mets une écharpe!\")\n",
    "    print(\"Et un bonnet!\")"
   ]
  },
  {
   "cell_type": "code",
   "execution_count": null,
   "metadata": {},
   "outputs": [],
   "source": [
    "temperature = 8\n",
    "if temperature < 5:\n",
    "    print(\"Mets une écharpe!\")\n",
    "print(\"Et un bonnet!\")"
   ]
  },
  {
   "cell_type": "markdown",
   "metadata": {},
   "source": [
    "#### Erreur courante\n",
    "Les EDI (*Environnement de Développement Intégré*) autorise l'utilisation de la tabulation pour créer l'indentation. Cependant en copiant-collant du code externe (depuis le web par exemple), il est possible de mélanger accidentellement espaces et tabulations et de provoquer une erreur pas toujours évidente à déceler."
   ]
  },
  {
   "cell_type": "code",
   "execution_count": null,
   "metadata": {},
   "outputs": [],
   "source": [
    "# Ce code lèvera une erreur\n",
    "temperature = 8\n",
    "if temperature < 5:\n",
    "\tprint(\"Mets une écharpe!\")\n",
    "    print(\"Et un bonnet!\")"
   ]
  },
  {
   "cell_type": "markdown",
   "metadata": {},
   "source": [
    "## Usages\n",
    "Les usages décrits ci-après n'ont aucun caractère obligatoire. Ils assurent cependant une cohérence dans les pratiques.\n",
    "\n",
    "Même s'il est possible de le faire en Python (encodage UTF-8), il est conseillé de ne pas utiliser de caractère accentué dans les noms de variables."
   ]
  },
  {
   "cell_type": "code",
   "execution_count": null,
   "metadata": {},
   "outputs": [],
   "source": [
    "température = 8 # possible mais non conseillé\n",
    "temperature = 8 # préférable"
   ]
  },
  {
   "cell_type": "markdown",
   "metadata": {},
   "source": [
    "Pour écrire le nom d'une variable, il est d'usage en Python d'utiliser le **snake_case** plutôt que le **CamelCase**."
   ]
  },
  {
   "cell_type": "code",
   "execution_count": null,
   "metadata": {},
   "outputs": [],
   "source": [
    "ma_temperature = 8 # snake_case: pas de majuscule et tiret bas\n",
    "MaTemperature = 8 # CamelCase: majuscule pour chaque mot"
   ]
  }
 ],
 "metadata": {
  "kernelspec": {
   "display_name": "Python 3",
   "language": "python",
   "name": "python3"
  },
  "language_info": {
   "codemirror_mode": {
    "name": "ipython",
    "version": 3
   },
   "file_extension": ".py",
   "mimetype": "text/x-python",
   "name": "python",
   "nbconvert_exporter": "python",
   "pygments_lexer": "ipython3",
   "version": "3.8.1"
  },
  "latex_envs": {
   "LaTeX_envs_menu_present": true,
   "autoclose": false,
   "autocomplete": true,
   "bibliofile": "biblio.bib",
   "cite_by": "apalike",
   "current_citInitial": 1,
   "eqLabelWithNumbers": true,
   "eqNumInitial": 1,
   "hotkeys": {
    "equation": "Ctrl-E",
    "itemize": "Ctrl-I"
   },
   "labels_anchors": false,
   "latex_user_defs": false,
   "report_style_numbering": true,
   "user_envs_cfg": false
  }
 },
 "nbformat": 4,
 "nbformat_minor": 4
}
