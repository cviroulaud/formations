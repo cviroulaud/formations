{
 "cells": [
  {
   "cell_type": "markdown",
   "metadata": {},
   "source": [
    "# Constructions élémentaires\n",
    "## Variables\n",
    "Python est un langage interprété c'est à dire que les instructions sont traduites en langage machine à la volée. C'est l'interpréteur qui joue ce rôle."
   ]
  },
  {
   "cell_type": "markdown",
   "metadata": {},
   "source": [
    "<div align=\"middle\"><img src=\"ressources/console.png\"></div>"
   ]
  },
  {
   "cell_type": "markdown",
   "metadata": {},
   "source": [
    "#### Activité 2\n",
    "Dans le dossier Maths ou NSI du bureau, ouvrir une console Python: Python 3.6.8\n",
    "Entrer les instructions ci -après (valider après chaque ligne):"
   ]
  },
  {
   "cell_type": "code",
   "execution_count": null,
   "metadata": {},
   "outputs": [],
   "source": [
    "a = 12\n",
    "b = 17\n",
    "c = a + b\n",
    "c"
   ]
  },
  {
   "cell_type": "markdown",
   "metadata": {},
   "source": [
    "#### Erreur courante\n",
    "Le signe = n'est pas à comprendre au sens mathématique. C'est un signe d'affectation. Ainsi l'instruction"
   ]
  },
  {
   "cell_type": "code",
   "execution_count": null,
   "metadata": {},
   "outputs": [],
   "source": [
    "12 = a"
   ]
  },
  {
   "cell_type": "markdown",
   "metadata": {},
   "source": [
    "est juste mathématiquement mais ne signifie rien en Python.\n",
    "\n",
    "En première approche, nous pouvons considérer une *variable* comme une boîte qui contient une information Cette information peut être de plusieurs natures (nombre, texte, tableau...)"
   ]
  },
  {
   "cell_type": "markdown",
   "metadata": {},
   "source": [
    "## Types de données\n",
    "### Typage\n",
    "Les données utilisées dans un programme peuvent être de différentes natures. Une *chaîne de caractère* permettra l'affichage d'un message à l'écran alors qu'un *entier* sera permettra d'effectuer un calcul."
   ]
  },
  {
   "cell_type": "markdown",
   "metadata": {},
   "source": [
    "### Typage dynamique\n",
    "Dans un programme, une variable possède un type déterminé par son contenu. La fonction Python *type()* donne le type d'une variable.\n",
    "#### Activité 3\n",
    "Tester les codes"
   ]
  },
  {
   "cell_type": "code",
   "execution_count": null,
   "metadata": {},
   "outputs": [],
   "source": [
    "a = 42\n",
    "type(a)"
   ]
  },
  {
   "cell_type": "markdown",
   "metadata": {},
   "source": [
    "En Python il est possible de changer le type d'une variable."
   ]
  },
  {
   "cell_type": "code",
   "execution_count": null,
   "metadata": {},
   "outputs": [],
   "source": [
    "a = \"test\"\n",
    "type(a)"
   ]
  },
  {
   "cell_type": "markdown",
   "metadata": {},
   "source": [
    "### Les types de base\n",
    "- int: integer; nombre entier (42)\n",
    "- str: string; chaîne de caractère (\"test\")\n",
    "- bool: boolean; valeur booléenne (True ou False)\n",
    "- float: flottant; nombre à virgule flottante (4.2)"
   ]
  },
  {
   "cell_type": "markdown",
   "metadata": {},
   "source": [
    "#### Erreurs courantes\n",
    "- La souplesse de Python qui permet de changer le type d'une variable, est perçue par certains comme une source d'erreur potentielle. D'une manière générale on évitera cette pratique.\n",
    "- La représentation en mémoire des nombres flottants est source de confusion. Dans la console, tester le code:"
   ]
  },
  {
   "cell_type": "code",
   "execution_count": null,
   "metadata": {},
   "outputs": [],
   "source": [
    "0.1 + 0.2"
   ]
  },
  {
   "cell_type": "markdown",
   "metadata": {},
   "source": [
    "Le résultat peut paraître déroutant. Ainsi la comparaison"
   ]
  },
  {
   "cell_type": "code",
   "execution_count": null,
   "metadata": {},
   "outputs": [],
   "source": [
    "0.1 + 0.2 == 0.3"
   ]
  },
  {
   "cell_type": "markdown",
   "metadata": {},
   "source": [
    "renvoie False. D'une manière générale, il ne faut pas comparer deux nombres flottants."
   ]
  },
  {
   "cell_type": "markdown",
   "metadata": {},
   "source": [
    "#### Activité 4\n",
    "Tester les instructions ci-après et expliquer ce qu'elles renvoient."
   ]
  },
  {
   "cell_type": "code",
   "execution_count": null,
   "metadata": {},
   "outputs": [],
   "source": [
    "20/3"
   ]
  },
  {
   "cell_type": "code",
   "execution_count": null,
   "metadata": {},
   "outputs": [],
   "source": [
    "20//3"
   ]
  },
  {
   "cell_type": "code",
   "execution_count": null,
   "metadata": {},
   "outputs": [],
   "source": [
    "20%3"
   ]
  },
  {
   "cell_type": "markdown",
   "metadata": {},
   "source": [
    "## Input/Output\n",
    "### Entrée\n",
    "L'instruction *input()* demande une valeur à l'utilisateur. Cependant la valeur est inaccessible. Il faut donc la stocker dans une variable en mémoire:"
   ]
  },
  {
   "cell_type": "code",
   "execution_count": null,
   "metadata": {},
   "outputs": [],
   "source": [
    "age = input()"
   ]
  },
  {
   "cell_type": "markdown",
   "metadata": {},
   "source": [
    "Pour être plus explicite, il est possible d'ajouter un *prompt*."
   ]
  },
  {
   "cell_type": "code",
   "execution_count": null,
   "metadata": {},
   "outputs": [],
   "source": [
    "age = input(\"Entrez votre âge: \")"
   ]
  },
  {
   "cell_type": "markdown",
   "metadata": {},
   "source": [
    "#### Erreur courante\n",
    "La fonction input() renvoie systématiquement une chaîne de caractère même si un nombre est entré. Pour convertir la chaîne de caractère en entier (int) ou réel (float), il faut utiliser respectivement les fonctions *int()* et *foat()*."
   ]
  },
  {
   "cell_type": "code",
   "execution_count": 7,
   "metadata": {},
   "outputs": [
    {
     "name": "stdout",
     "output_type": "stream",
     "text": [
      "Entrez votre âge: 25\n"
     ]
    }
   ],
   "source": [
    "age = int(input(\"Entrez votre âge: \"))"
   ]
  },
  {
   "cell_type": "markdown",
   "metadata": {},
   "source": [
    "#### Sortie\n",
    "L'instruction print(\"mon texte\") affiche *mon texte* à l'écran."
   ]
  },
  {
   "cell_type": "code",
   "execution_count": null,
   "metadata": {},
   "outputs": [],
   "source": [
    "print(\"mon texte\")"
   ]
  },
  {
   "cell_type": "markdown",
   "metadata": {},
   "source": [
    "Il est possible d'afficher le contenu d'une variable:"
   ]
  },
  {
   "cell_type": "code",
   "execution_count": null,
   "metadata": {},
   "outputs": [],
   "source": [
    "print(age)"
   ]
  },
  {
   "cell_type": "markdown",
   "metadata": {},
   "source": [
    "Il ne faut alors pas mettre de guillemets.\n",
    "\n",
    "Pour combiner texte et variable il existe plusieurs syntaxes."
   ]
  },
  {
   "cell_type": "code",
   "execution_count": null,
   "metadata": {},
   "outputs": [],
   "source": [
    "# Concaténation\n",
    "print(\"Vous avez\"+\"15 ans\")\n",
    "# La fonction format remplace les accolades par les variables.\n",
    "print(\"Vous avez {} ans\".format(age))\n",
    "\n",
    "# Une autre possibilité (pour Python > 3.6). Il faut remarquer le f en début.\n",
    "print(f\"Vous avez {age} ans\")"
   ]
  },
  {
   "cell_type": "markdown",
   "metadata": {},
   "source": [
    "#### Erreur courante\n",
    "Le code ci-dessous renvoie une erreur.\n"
   ]
  },
  {
   "cell_type": "code",
   "execution_count": null,
   "metadata": {},
   "outputs": [],
   "source": [
    "age = 25\n",
    "print(\"Vous avez \"+ age +\" ans\")"
   ]
  },
  {
   "cell_type": "markdown",
   "metadata": {},
   "source": [
    "Il n'est pas possible de concaténer un *String* avec un autre type de données. Il faut d'abord convertir la variable avec la fonction *str()*."
   ]
  },
  {
   "cell_type": "code",
   "execution_count": null,
   "metadata": {},
   "outputs": [],
   "source": [
    "age = 25\n",
    "print(\"Vous avez \"+ str(age) +\" ans\")"
   ]
  },
  {
   "cell_type": "markdown",
   "metadata": {},
   "source": [
    "#### Activité 5\n",
    "Écrire un programme qui demande l'âge de l'utilisateur, calcule l'année de naissance et affiche cette année."
   ]
  },
  {
   "cell_type": "markdown",
   "metadata": {},
   "source": [
    "## Structure conditionnelle"
   ]
  },
  {
   "cell_type": "markdown",
   "metadata": {},
   "source": [
    "L'instruction"
   ]
  },
  {
   "cell_type": "code",
   "execution_count": null,
   "metadata": {},
   "outputs": [],
   "source": [
    "a = 5\n",
    "b = 5\n",
    "a == b"
   ]
  },
  {
   "cell_type": "markdown",
   "metadata": {},
   "source": [
    "renvoie True si les variables a et b sont égales."
   ]
  },
  {
   "cell_type": "markdown",
   "metadata": {},
   "source": [
    "L'instruction"
   ]
  },
  {
   "cell_type": "code",
   "execution_count": null,
   "metadata": {},
   "outputs": [],
   "source": [
    "a = 5\n",
    "b = 5\n",
    "if a == b:\n",
    "    print(a)"
   ]
  },
  {
   "cell_type": "markdown",
   "metadata": {},
   "source": [
    "affiche a si les variables a et b sont égales."
   ]
  },
  {
   "cell_type": "markdown",
   "metadata": {},
   "source": [
    "#### Erreur courante\n",
    "Il faut noter l'emploi du *double égal* pour ne pas confondre avec le signe d'affectation."
   ]
  },
  {
   "cell_type": "markdown",
   "metadata": {},
   "source": [
    "#### Activité 7\n",
    "- Tester les codes"
   ]
  },
  {
   "cell_type": "code",
   "execution_count": null,
   "metadata": {},
   "outputs": [],
   "source": [
    "a = 5\n",
    "b = 3\n",
    "if a == b:\n",
    "    print(\"a vaut \",a)\n",
    "    print(\"b vaut \",b)"
   ]
  },
  {
   "cell_type": "code",
   "execution_count": null,
   "metadata": {},
   "outputs": [],
   "source": [
    "a = 5\n",
    "b = 3\n",
    "if a == b:\n",
    "    print(\"a vaut \",a)\n",
    "print(\"b vaut \",b)"
   ]
  },
  {
   "cell_type": "markdown",
   "metadata": {},
   "source": [
    "- Noter les différences d'exécution.\n",
    "- Tester le code ci-après pour plusieurs valeurs de a et b. Bien observer l'indentation."
   ]
  },
  {
   "cell_type": "code",
   "execution_count": null,
   "metadata": {},
   "outputs": [],
   "source": [
    "a = 5\n",
    "b = 3\n",
    "if a == b:\n",
    "    print(\"a et b sont égaux.\")\n",
    "else:\n",
    "    print(\"a et b sont différents.\")"
   ]
  },
  {
   "cell_type": "markdown",
   "metadata": {},
   "source": [
    "- Il est possible de tester plusieurs conditions. Trouver des valeurs de a et b pour lesquelles le message \"a est vraiment très grand.\" est affiché."
   ]
  },
  {
   "cell_type": "code",
   "execution_count": null,
   "metadata": {},
   "outputs": [],
   "source": [
    "a = 5\n",
    "b = 3\n",
    "if a == b:\n",
    "    print(\"a et b sont égaux.\")\n",
    "elif a > 10*b:\n",
    "    print(\"a est vraiment très grand.\")\n",
    "else:\n",
    "    print(\"a et b sont différents.\")"
   ]
  },
  {
   "cell_type": "markdown",
   "metadata": {},
   "source": [
    "## Répéter une instruction\n",
    "### Boucle non bornée\n",
    "Une boucle *non bornée* répète une instruction *tant que (while)* la condition est vérifiée."
   ]
  },
  {
   "cell_type": "markdown",
   "metadata": {},
   "source": [
    "#### Activité 8\n",
    "- Tester le programme ci-après"
   ]
  },
  {
   "cell_type": "code",
   "execution_count": null,
   "metadata": {},
   "outputs": [],
   "source": [
    "compteur = 10\n",
    "while compteur > 0:\n",
    "    print(\"Boum dans {} secondes.\".format(compteur))\n",
    "    compteur = compteur - 1\n",
    "print(\"Boum\")"
   ]
  },
  {
   "cell_type": "markdown",
   "metadata": {},
   "source": [
    "- À quelle ligne compare-t-on le compteur avec la valeur limite?\n",
    "- Quel est le rôle de la ligne 4? Que se passera-t-il si cette ligne est retirée?"
   ]
  },
  {
   "cell_type": "markdown",
   "metadata": {},
   "source": [
    "#### Erreur courante\n",
    "Dans une boucle *while* il faut gérer manuellement le cas où la condition ne sera plus vérifiée. Il arrive régulièrement d'oublier de modifier la valeur du *compteur*. La boucle tourne alors indéfiniment."
   ]
  },
  {
   "cell_type": "markdown",
   "metadata": {},
   "source": [
    "### Boucle bornée\n",
    "Il existe une autre manière de répéter des instructions avec un mécanisme qui varie le compteur automatiquement."
   ]
  },
  {
   "cell_type": "markdown",
   "metadata": {},
   "source": [
    "#### Activité 9\n",
    "Tester le programme ci-après"
   ]
  },
  {
   "cell_type": "code",
   "execution_count": null,
   "metadata": {},
   "outputs": [],
   "source": [
    "for compteur in range(10):\n",
    "   print(\"Le compteur vaut {}\".format(compteur))"
   ]
  },
  {
   "cell_type": "markdown",
   "metadata": {},
   "source": [
    "- Lire la documentation de la fonction *range()*: [documentation](https://docs.python.org/fr/3/tutorial/controlflow.html#the-range-function)"
   ]
  },
  {
   "cell_type": "markdown",
   "metadata": {},
   "source": [
    "Adapter le code précédent pour afficher:\n",
    "- Le compteur vaut 6.\n",
    "- Le compteur vaut 7.\n",
    "- Le compteur vaut 8.\n",
    "- Le compteur vaut 9."
   ]
  },
  {
   "cell_type": "markdown",
   "metadata": {},
   "source": [
    "Adapter le code précédent pour afficher:\n",
    "- Le compteur vaut 0.\n",
    "- Le compteur vaut 3.\n",
    "- Le compteur vaut 6.\n",
    "- Le compteur vaut 9."
   ]
  },
  {
   "cell_type": "markdown",
   "metadata": {},
   "source": [
    "#### Erreur courante\n",
    "L'appel *range(10)* renvoie 10 valeurs **en commençant par 0**. La borne supérieure (10) n'est donc pas dans l'intervalle."
   ]
  },
  {
   "cell_type": "markdown",
   "metadata": {},
   "source": [
    "## Types construits de données\n",
    "Pour stocker plusieurs valeurs, il existe plusieurs types de structures.\n",
    "### Tuple\n",
    "Un *tuple* est une séquence **ordonnée** de plusieurs éléments. En mathématiques on parle de *p-uplet*."
   ]
  },
  {
   "cell_type": "code",
   "execution_count": 8,
   "metadata": {},
   "outputs": [],
   "source": [
    "mon_tuple = (8, 5, 3, 9, 1, 0, 2)"
   ]
  },
  {
   "cell_type": "markdown",
   "metadata": {},
   "source": [
    "On ne peut modifier un tuple: on dit qu'il est *immuable* ou *non mutable*. Par contre il est possible d'accéder aux éléments individuellement."
   ]
  },
  {
   "cell_type": "markdown",
   "metadata": {},
   "source": [
    "Le code ci-après renvoie la première valeur du tuple. **L'indexation commence à 0.**"
   ]
  },
  {
   "cell_type": "code",
   "execution_count": 9,
   "metadata": {},
   "outputs": [
    {
     "data": {
      "text/plain": [
       "8"
      ]
     },
     "execution_count": 9,
     "metadata": {},
     "output_type": "execute_result"
    }
   ],
   "source": [
    "mon_tuple[0]"
   ]
  },
  {
   "cell_type": "markdown",
   "metadata": {},
   "source": [
    "### Tableau\n",
    "Un deuxième type de structure semble plus adapté lorsqu'on veut stocker des valeurs de manière séquentielle: *les tableaux*. En Python on parle de *list* pour évoquer ces structures.\n"
   ]
  },
  {
   "cell_type": "code",
   "execution_count": 16,
   "metadata": {},
   "outputs": [],
   "source": [
    "mon_tableau = [8, 5, 3, 9, 1, 0, 2]"
   ]
  },
  {
   "cell_type": "markdown",
   "metadata": {},
   "source": [
    "Pour accéder a un élément, la syntaxe est la même que pour les tuples."
   ]
  },
  {
   "cell_type": "code",
   "execution_count": 11,
   "metadata": {},
   "outputs": [
    {
     "data": {
      "text/plain": [
       "8"
      ]
     },
     "execution_count": 11,
     "metadata": {},
     "output_type": "execute_result"
    }
   ],
   "source": [
    "mon_tableau[0]"
   ]
  },
  {
   "cell_type": "markdown",
   "metadata": {},
   "source": [
    "Les tableaux sont *mutables*. Il est possible de modifier leur contenu, ajouter voire supprimer un élément."
   ]
  },
  {
   "cell_type": "code",
   "execution_count": 17,
   "metadata": {},
   "outputs": [
    {
     "data": {
      "text/plain": [
       "3"
      ]
     },
     "execution_count": 17,
     "metadata": {},
     "output_type": "execute_result"
    }
   ],
   "source": [
    "mon_tableau[2]"
   ]
  },
  {
   "cell_type": "code",
   "execution_count": 13,
   "metadata": {},
   "outputs": [],
   "source": [
    "mon_tableau[2] = 19"
   ]
  },
  {
   "cell_type": "code",
   "execution_count": 14,
   "metadata": {},
   "outputs": [
    {
     "data": {
      "text/plain": [
       "19"
      ]
     },
     "execution_count": 14,
     "metadata": {},
     "output_type": "execute_result"
    }
   ],
   "source": [
    "mon_tableau[2]"
   ]
  },
  {
   "cell_type": "markdown",
   "metadata": {},
   "source": [
    "Il existe de nombreuses autres méthodes pour manipuler les tableaux. La documentation Python présente ces outils: [documentation](https://docs.python.org/fr/3/tutorial/datastructures.html)"
   ]
  },
  {
   "cell_type": "markdown",
   "metadata": {},
   "source": [
    "### Dictionnaire\n",
    "Un dictionnaire associe une *clé* à une *valeur*. Il n'y a pas de notion d'indice comme pour les autres types construits."
   ]
  },
  {
   "cell_type": "code",
   "execution_count": 18,
   "metadata": {},
   "outputs": [],
   "source": [
    "dico_identite = {\"nom\": \"Viroulaud\", \"prenom\": \"Christophe\", \"age\": 43}"
   ]
  },
  {
   "cell_type": "code",
   "execution_count": 19,
   "metadata": {},
   "outputs": [
    {
     "data": {
      "text/plain": [
       "'Christophe'"
      ]
     },
     "execution_count": 19,
     "metadata": {},
     "output_type": "execute_result"
    }
   ],
   "source": [
    "dico_identite[\"prenom\"]"
   ]
  },
  {
   "cell_type": "code",
   "execution_count": 20,
   "metadata": {},
   "outputs": [
    {
     "data": {
      "text/plain": [
       "43"
      ]
     },
     "execution_count": 20,
     "metadata": {},
     "output_type": "execute_result"
    }
   ],
   "source": [
    "dico_identite[\"age\"]"
   ]
  },
  {
   "cell_type": "code",
   "execution_count": 21,
   "metadata": {},
   "outputs": [],
   "source": [
    "dico_identite[\"age\"] = 25"
   ]
  },
  {
   "cell_type": "code",
   "execution_count": 22,
   "metadata": {},
   "outputs": [
    {
     "data": {
      "text/plain": [
       "25"
      ]
     },
     "execution_count": 22,
     "metadata": {},
     "output_type": "execute_result"
    }
   ],
   "source": [
    "dico_identite[\"age\"]"
   ]
  },
  {
   "cell_type": "markdown",
   "metadata": {},
   "source": [
    "### Parcourir un type construit de données\n",
    "Les types construits sont *itérables*. Il est donc possible de *boucler* sur leurs éléments.\n",
    "#### Activité 10\n",
    "Tester les codes suivants"
   ]
  },
  {
   "cell_type": "code",
   "execution_count": 26,
   "metadata": {},
   "outputs": [
    {
     "name": "stdout",
     "output_type": "stream",
     "text": [
      "8\n",
      "5\n",
      "3\n",
      "9\n",
      "1\n",
      "0\n",
      "2\n"
     ]
    }
   ],
   "source": [
    "mon_tableau = [8, 5, 3, 9, 1, 0, 2]\n",
    "# La fonction len() renvoie la taille de la structure\n",
    "for i in range(len(mon_tableau)):\n",
    "    print(mon_tableau[i])"
   ]
  },
  {
   "cell_type": "code",
   "execution_count": 25,
   "metadata": {},
   "outputs": [
    {
     "name": "stdout",
     "output_type": "stream",
     "text": [
      "8\n",
      "5\n",
      "3\n",
      "9\n",
      "1\n",
      "0\n",
      "2\n"
     ]
    }
   ],
   "source": [
    "# Boucler directement sur les éléments du tableau\n",
    "for element in mon_tableau:\n",
    "    print(element)"
   ]
  },
  {
   "cell_type": "code",
   "execution_count": 27,
   "metadata": {},
   "outputs": [
    {
     "name": "stdout",
     "output_type": "stream",
     "text": [
      "nom Viroulaud\n",
      "prenom Christophe\n",
      "age 25\n"
     ]
    }
   ],
   "source": [
    "for cle, valeur in dico_identite.items():\n",
    "    print(cle, valeur)"
   ]
  },
  {
   "cell_type": "markdown",
   "metadata": {},
   "source": [
    "## Fonction\n",
    "### Définition\n",
    "Il faut rapprocher une fonction informatique de la notion de fonction mathématique: il s'agit d'une *boîte noire* qui possède des *paramètres* et qui nous renvoie un résultat (avec le mot-clef *return*)."
   ]
  },
  {
   "cell_type": "code",
   "execution_count": 28,
   "metadata": {},
   "outputs": [],
   "source": [
    "def fonction_cube(x):\n",
    "    return x**3"
   ]
  },
  {
   "cell_type": "markdown",
   "metadata": {},
   "source": [
    "Une fois la fonction crée il faut l'appeler dans le programme principal en lui passant des *arguments*."
   ]
  },
  {
   "cell_type": "code",
   "execution_count": 29,
   "metadata": {},
   "outputs": [
    {
     "data": {
      "text/plain": [
       "125"
      ]
     },
     "execution_count": 29,
     "metadata": {},
     "output_type": "execute_result"
    }
   ],
   "source": [
    "fonction_cube(5)"
   ]
  },
  {
   "cell_type": "markdown",
   "metadata": {},
   "source": [
    "#### Erreur courante\n",
    "Il est tentant d'afficher le résultat directement depuis la fonction:"
   ]
  },
  {
   "cell_type": "code",
   "execution_count": 30,
   "metadata": {},
   "outputs": [
    {
     "name": "stdout",
     "output_type": "stream",
     "text": [
      "5 est impair.\n"
     ]
    }
   ],
   "source": [
    "def est_pair(x):\n",
    "    # si le reste de la division est nul\n",
    "    if x%2 == 0:\n",
    "        print(f\"{x} est pair.\")\n",
    "    else:\n",
    "        print(f\"{x} est impair.\")\n",
    "\n",
    "# programme principal\n",
    "est_pair(5)"
   ]
  },
  {
   "cell_type": "markdown",
   "metadata": {},
   "source": [
    "Ce code ne lève pas d'erreur mais il est préférable de séparer calcul et affichage. En mathématique la fonction s'occupe seulement de calculer l'image et non de placer le point correspondant dans un repère."
   ]
  },
  {
   "cell_type": "code",
   "execution_count": 32,
   "metadata": {},
   "outputs": [
    {
     "name": "stdout",
     "output_type": "stream",
     "text": [
      "5 est impair.\n"
     ]
    }
   ],
   "source": [
    "def est_pair(x):\n",
    "    \"\"\"\n",
    "    Renvoie True si x est pair\n",
    "    \"\"\"\n",
    "    if x%2 == 0:\n",
    "        return True\n",
    "    else:\n",
    "        return False\n",
    "\n",
    "# programme principal\n",
    "x = 5\n",
    "if est_pair(x):\n",
    "    print(f\"{x} est pair.\")\n",
    "else:\n",
    "    print(f\"{x} est impair.\")"
   ]
  },
  {
   "cell_type": "markdown",
   "metadata": {},
   "source": [
    "#### Portée d'une variable\n",
    "En première approche il faut considérer qu'une variable n'est visible que dans la fonction où elle est définie. À ce titre, considérons alors la programme principal comme une fonction.\n",
    "#### Activité 11\n",
    "Tester le code suivant."
   ]
  },
  {
   "cell_type": "code",
   "execution_count": null,
   "metadata": {},
   "outputs": [],
   "source": [
    "def affine(x):\n",
    "    a = 5\n",
    "    b = 3\n",
    "    return a*x+b\n",
    "\n",
    "print(affine(10))\n",
    "print(a)"
   ]
  },
  {
   "cell_type": "markdown",
   "metadata": {},
   "source": [
    "a est une *variable locale*. Elle n'est visible que dans la fonction *affine*.\n",
    "#### Erreur courante\n",
    "- En réalité, dans une fonction il est possible d'accéder à une variable du programme principal (variable globale). C'est une mauvaise pratique. Une fonction doit être indépendante, afin par exemple d'être réutilisable dans un autre contexte. D'une manière générale nous éviterons au maximum d'utiliser des variables globales.\n",
    "- Sans rentrer dans le détail des représentations en mémoire, il faut tout de même faire la distinction entre les variables mutables ou non.\n"
   ]
  },
  {
   "cell_type": "markdown",
   "metadata": {},
   "source": [
    "#### Activité 12\n",
    "Tester les codes ci-après sur le site [pythontutor](http://pythontutor.com/)"
   ]
  },
  {
   "cell_type": "code",
   "execution_count": null,
   "metadata": {},
   "outputs": [],
   "source": [
    "# variable immuable\n",
    "def modifier():\n",
    "    a = 5\n",
    "\n",
    "a = 8\n",
    "modifier()\n",
    "print(a)"
   ]
  },
  {
   "cell_type": "code",
   "execution_count": null,
   "metadata": {},
   "outputs": [],
   "source": [
    "# variable mutable\n",
    "def modifier():\n",
    "    tab[0] = 12\n",
    "\n",
    "tab = [1, 4, 8]\n",
    "modifier()\n",
    "print(tab)"
   ]
  }
 ],
 "metadata": {
  "kernelspec": {
   "display_name": "Python 3",
   "language": "python",
   "name": "python3"
  },
  "language_info": {
   "codemirror_mode": {
    "name": "ipython",
    "version": 3
   },
   "file_extension": ".py",
   "mimetype": "text/x-python",
   "name": "python",
   "nbconvert_exporter": "python",
   "pygments_lexer": "ipython3",
   "version": "3.8.1"
  },
  "latex_envs": {
   "LaTeX_envs_menu_present": true,
   "autoclose": false,
   "autocomplete": true,
   "bibliofile": "biblio.bib",
   "cite_by": "apalike",
   "current_citInitial": 1,
   "eqLabelWithNumbers": true,
   "eqNumInitial": 1,
   "hotkeys": {
    "equation": "Ctrl-E",
    "itemize": "Ctrl-I"
   },
   "labels_anchors": false,
   "latex_user_defs": false,
   "report_style_numbering": true,
   "user_envs_cfg": false
  }
 },
 "nbformat": 4,
 "nbformat_minor": 4
}
